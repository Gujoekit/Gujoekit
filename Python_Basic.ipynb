{
  "nbformat": 4,
  "nbformat_minor": 0,
  "metadata": {
    "colab": {
      "provenance": [],
      "toc_visible": true,
      "cell_execution_strategy": "setup",
      "mount_file_id": "1YA_kULaE9zm8aUWGkYW5Mnh_EhHHdZt7",
      "authorship_tag": "ABX9TyOo8ylwt5mT1wisNVnyj0D+",
      "include_colab_link": true
    },
    "kernelspec": {
      "name": "python3",
      "display_name": "Python 3"
    },
    "language_info": {
      "name": "python"
    }
  },
  "cells": [
    {
      "cell_type": "markdown",
      "metadata": {
        "id": "view-in-github",
        "colab_type": "text"
      },
      "source": [
        "<a href=\"https://colab.research.google.com/github/Gujoekit/Gujoekit/blob/main/Python_Basic.ipynb\" target=\"_parent\"><img src=\"https://colab.research.google.com/assets/colab-badge.svg\" alt=\"Open In Colab\"/></a>"
      ]
    },
    {
      "cell_type": "markdown",
      "source": [
        "# พัฒนาโปรแกรม Cashier ร้านค้า"
      ],
      "metadata": {
        "id": "CwojCc8bs0tr"
      }
    },
    {
      "cell_type": "code",
      "source": [
        "from google.colab import drive\n",
        "drive.mount('/content/drive')"
      ],
      "metadata": {
        "id": "6HmhefAYvlv-"
      },
      "execution_count": null,
      "outputs": []
    },
    {
      "cell_type": "markdown",
      "source": [
        "โปรแกรม Cashier คิดเงินทอน จากจำนวนเงิน"
      ],
      "metadata": {
        "id": "wmuMeh31CVjR"
      }
    },
    {
      "cell_type": "code",
      "execution_count": null,
      "metadata": {
        "id": "nLF6jiMt0rG0"
      },
      "outputs": [],
      "source": [
        "#ข้อความทักทาย\n",
        "print(\"Welcome to The Cashier System\")\n",
        "#ป้อนจำนวนเงินทอน ตามเงินทอน\n",
        "change = int(input('Change = '))\n",
        "print(\"Please Pay\",change,\"Baht\")\n",
        "n_20 = change//20\n",
        "change = change%20\n",
        "n_10 = change//10\n",
        "change = change%10\n",
        "n_5 = change//5\n",
        "change = change%5\n",
        "n_1 = change//1\n",
        "change = change%1\n",
        "#แสดงผลการทอน\n",
        "print(\"20 Baht = \", n_20)\n",
        "print(\"10 Baht = \", n_10)\n",
        "print(\"5 Baht = \", n_5)\n",
        "print(\"1 Baht = \", n_1)\n",
        "\n"
      ]
    },
    {
      "cell_type": "markdown",
      "source": [
        "V 0.2 +รับข้อมูลสมาชิก แสดงส่วนลด 50%"
      ],
      "metadata": {
        "id": "fiuy_rrrYTC9"
      }
    },
    {
      "cell_type": "code",
      "source": [
        "#ต้อนรับ\n",
        "print(\"Welcome to The Cashier System\")\n",
        "#ยอด\n",
        "price = int(input())\n",
        "print('price : ',price)\n",
        "#ตรวจสมาชิก\n",
        "Ismembers = input(\"Member? (y/n)\")\n",
        "if Ismembers == 'y':\n",
        "  print(\"Member Discount : 50% \")\n",
        "  price = price *0.5\n",
        "elif Ismembers == 'n':\n",
        "  print(\"Not a Member\")\n",
        "#แสดงราคาที่จ่าย\n",
        "print(\"Total : \",price)\n"
      ],
      "metadata": {
        "id": "uUgC1dOfYSg5"
      },
      "execution_count": null,
      "outputs": []
    },
    {
      "cell_type": "markdown",
      "source": [
        "ตัวอย่างการทำงาน บาร์โค้ด หลายเงื่อนไข"
      ],
      "metadata": {
        "id": "ODOLu8D0hohh"
      }
    },
    {
      "cell_type": "code",
      "source": [
        "#input\n",
        "barcodeIn = input(\"Barcode : \")\n",
        "#ตรวจสอบ\n",
        "if barcodeIn == '0325':\n",
        "  price = 13\n",
        "  print(price,\" กระป๋อง\")\n",
        "elif barcodeIn == '0500':\n",
        "  price = 15\n",
        "  print(price,\" ขวด\")\n",
        "elif barcodeIn == '1500':\n",
        "  price = 25\n",
        "  print(price,\" กิโลกรัม\")\n",
        "else:\n",
        "  print(\"ไม่พบสินค้า\")\n",
        "\n"
      ],
      "metadata": {
        "id": "6pgBM4W2eOo4"
      },
      "execution_count": null,
      "outputs": []
    },
    {
      "cell_type": "markdown",
      "source": [
        "\n",
        "\n",
        "V 0.3 +การเก็บแต้มสะสมจากยอดซื้อ"
      ],
      "metadata": {
        "id": "vN5u_LJmt8cE"
      }
    },
    {
      "cell_type": "code",
      "source": [
        "#ต้อนรับ\n",
        "print(\"Welcome to The Cashier System\")\n",
        "reward_points = 0\n",
        "#ยอด\n",
        "price = int(input())\n",
        "print('price : ',price)\n",
        "#ตรวจสมาชิก\n",
        "Ismembers = input(\"Member? (y/n)\")\n",
        "if Ismembers == 'y':\n",
        "  print(\"Member Discount : 20% \")\n",
        "  price = price *0.8\n",
        "  if price >500 and price <1000:\n",
        "    print(\"Reward Points : 10\")\n",
        "    reward_points = reward_points + 10\n",
        "  elif price >1000 and price <2000:\n",
        "    print(\"Reward Points : 20\")\n",
        "    reward_points = reward_points + 20\n",
        "  elif price >2000:\n",
        "    print(\"Reward Points : 30\")\n",
        "    reward_points = reward_points + 40\n",
        "  else:\n",
        "    print(\"Reward Points : 0\")\n",
        "    reward_points = reward_points + 0\n",
        "\n",
        "elif Ismembers == 'n':\n",
        "  print(\"Not a Member\")\n",
        "\n",
        "#แสดงราคาที่จ่าย\n",
        "print(\"Total : \",price)"
      ],
      "metadata": {
        "id": "WfxCtKYQrWf4"
      },
      "execution_count": null,
      "outputs": []
    },
    {
      "cell_type": "markdown",
      "source": [
        "โปรแกรม Cashier V1.0 EN"
      ],
      "metadata": {
        "id": "gIXGe1zbxHG-"
      }
    },
    {
      "cell_type": "code",
      "source": [
        "#ต้อนรับ\n",
        "print(\"Welcome to The Cashier System\")\n",
        "reward_points = 0\n",
        "#วนรับจำนวนสินค้า\n",
        "itemcount = 0\n",
        "totalprice = 0\n",
        "numberitem = int(input('item = '))\n",
        "\n",
        "while itemcount < numberitem:\n",
        "  price = int(input('itemprice = '))\n",
        "  totalprice = totalprice + price\n",
        "  itemcount = itemcount + 1\n",
        "print('totalprice = ',totalprice)\n",
        "\n",
        "#ยอด\n",
        "price = totalprice\n",
        "print('price : ',price)\n",
        "#ตรวจสมาชิก\n",
        "Ismembers = input(\"Member? (y/n)\")\n",
        "if Ismembers == 'y':\n",
        "  print(\"Member Discount : 20% \")\n",
        "  price = price *0.8\n",
        "  if price >500 and price <1000:\n",
        "    print(\"Reward Points : 10\")\n",
        "    reward_points = reward_points + 10\n",
        "  elif price >1000 and price <2000:\n",
        "    print(\"Reward Points : 20\")\n",
        "    reward_points = reward_points + 20\n",
        "  elif price >2000:\n",
        "    print(\"Reward Points : 30\")\n",
        "    reward_points = reward_points + 40\n",
        "  else:\n",
        "    print(\"Reward Points : 0\")\n",
        "    reward_points = reward_points + 0\n",
        "\n",
        "elif Ismembers == 'n':\n",
        "  print(\"Not a Member\")\n",
        "\n",
        "#แสดงราคาที่จ่าย\n",
        "print(\"Total : \",price)"
      ],
      "metadata": {
        "id": "yM7_B_pxtuQd"
      },
      "execution_count": null,
      "outputs": []
    },
    {
      "cell_type": "markdown",
      "source": [
        "# List และการ วน Loop"
      ],
      "metadata": {
        "id": "9qCwuTN3ttAu"
      }
    },
    {
      "cell_type": "markdown",
      "source": [
        "While # ส่วนเกี่ยวข้อง"
      ],
      "metadata": {
        "id": "whV6I3ihujXI"
      }
    },
    {
      "cell_type": "code",
      "source": [
        "#การใช้Loop While ระบุจำนวนรอบชัดเจน\n",
        "\n",
        "amountday = int(input('คุณวิ่งทั้งหมดกี่วัน = '))\n",
        "print()\n",
        "courtrun = 1\n",
        "totalrun = 0\n",
        "while  courtrun <= amountday:\n",
        "  amountrun = int(input('ระยะทางวันที่' + str(courtrun) + ' = '))\n",
        "  print()\n",
        "  totalrun = totalrun + amountrun\n",
        "  courtrun = courtrun +1\n",
        "print('ระยะรวมในการวิ่ง = ',totalrun,' Km')"
      ],
      "metadata": {
        "id": "yLk9Uboguij0"
      },
      "execution_count": null,
      "outputs": []
    },
    {
      "cell_type": "markdown",
      "source": [
        "List # ส่วนเกี่ยวข้อง"
      ],
      "metadata": {
        "id": "uP95DbixSGUs"
      }
    },
    {
      "cell_type": "code",
      "source": [
        "#คำสั่งในการใช้List\n",
        "#list slicing คือ การระบุตำแหน่งแบบบวกเพิ่ม  [จาก : ถึง : โดดที่ละ] ค่าออกยังเป็นlist\n",
        "#เพิ่ม(ต่อท้าย) .append\n",
        "#เพิ่ม(แซก).insert(เลขตำแหน่ง,ข้อมูล)\n",
        "#ลบ .remove('ข้อมูล หรือ ตำแหน่ง')\n",
        "#คอนเคต รวมลิตโดยใช้เครื่องหมาย + ในตัวแปรใหม่ / รวมเลข (sum[list]) /len(นับ)\n",
        "\n",
        "month = ['jan','feb','mar','apr','may','jun','jul','aug','sep','oct','nov','dec']\n",
        "print(month[0:6:2])\n"
      ],
      "metadata": {
        "id": "wCiBOEGm6OQ2"
      },
      "execution_count": null,
      "outputs": []
    },
    {
      "cell_type": "markdown",
      "source": [
        "วนป้อนรหัส3ครั้ง"
      ],
      "metadata": {
        "id": "ZkA5coRA1gVG"
      }
    },
    {
      "cell_type": "code",
      "source": [
        "#การใช้Loop While ระบุจำนวนรอบ แบบมีเงื่อนไข if / elif / else\n",
        "\n",
        "amountpin = 1\n",
        "pin = '1234'\n",
        "\n",
        "while amountpin <=3:\n",
        "  gopin = input('ป้อนรหัส : ')\n",
        "  if gopin == pin:\n",
        "    print('ยินดีต้อนรับ')\n",
        "    break\n",
        "  elif gopin != pin:\n",
        "    print('รหัสไม่ถูกต้อง')\n",
        "    amountpin = amountpin + 1\n",
        "    print('ป้อนรหัสอีกครั้ง')\n",
        "else:\n",
        "  print('จำนวนลองผิดเกินไป')\n"
      ],
      "metadata": {
        "id": "tz95XTZ6ynxa"
      },
      "execution_count": null,
      "outputs": []
    },
    {
      "cell_type": "markdown",
      "source": [
        "For Loop"
      ],
      "metadata": {
        "id": "neGWOKa3vvXr"
      }
    },
    {
      "cell_type": "code",
      "source": [
        "#คำสั่งในการใช้ for ใช้สร้าง / หรือไปดึงค่าในลิต /ใช้เปิดฟายวนอ่าน\n",
        "#range จะเริ่มจาก 0 จากลิต (จาก : ถึง : โดดที่ละ)\n",
        "\n",
        "for i in range(1,11):\n",
        "  print(i)\n"
      ],
      "metadata": {
        "id": "BiRWXbSlvuuv",
        "collapsed": true
      },
      "execution_count": null,
      "outputs": []
    },
    {
      "cell_type": "markdown",
      "source": [
        "ใช้ Forloop เปิดฟาย"
      ],
      "metadata": {
        "id": "WX5pvEbgFKhR"
      }
    },
    {
      "cell_type": "code",
      "source": [
        "#ขั้นตอน 1.นำเข้า 2.สร้างตัวแปลเก็บฟายที่จะเปิด 3.ใช้ลูปฟรอมวนอ่าน/หรือแก้ไขฟาย\n",
        "from google.colab import files\n",
        "files.upload()\n",
        "\n",
        "noteLits = []\n",
        "\n",
        "with open ('note.txt','r') as noteFile:\n",
        "  for line in noteFile:\n",
        "    ns = line.strip()\n",
        "    noteLits.append(ns)\n",
        "print(noteLits)\n"
      ],
      "metadata": {
        "collapsed": true,
        "id": "ZwkZAPV1FK05"
      },
      "execution_count": null,
      "outputs": []
    },
    {
      "cell_type": "markdown",
      "source": [
        "ใช้ Forloop เปิดฟายอ่าน จากในเครื่อง"
      ],
      "metadata": {
        "id": "-q_RzhMJwgFr"
      }
    },
    {
      "cell_type": "code",
      "source": [
        "#ขั้นตอน 1.นำเข้า 2.สร้างตัวแปลเก็บฟายที่จะเปิด 3.ใช้ลูปฟรอมวนอ่าน/หรือแก้ไขฟาย\n",
        "#อันนี้อัพโหลดฟายจากในเครื่อง\n",
        "from google.colab import files\n",
        "files.upload()\n"
      ],
      "metadata": {
        "collapsed": true,
        "id": "jJmTCx-JwgF0"
      },
      "execution_count": null,
      "outputs": []
    },
    {
      "cell_type": "code",
      "source": [
        "#.strip() อ่านเป็นสตริง\n",
        "#.split() แยกเป็นส่วน\n",
        "\n",
        "noteLits = []\n",
        "\n",
        "with open ('productReport.txt','r') as noteFile:\n",
        "  for line in noteFile:\n",
        "    ns = line.split()\n",
        "    noteLits.append(ns)\n",
        "print(noteLits)"
      ],
      "metadata": {
        "id": "3Jfaj2seOYsa"
      },
      "execution_count": null,
      "outputs": []
    },
    {
      "cell_type": "markdown",
      "source": [
        "ใช้ For กับเงื่อนไข if elif else"
      ],
      "metadata": {
        "id": "acIl6CUlws7l"
      }
    },
    {
      "cell_type": "code",
      "source": [
        "#หาค่า cnt\n",
        "#การใช้Loop While ระบุจำนวนรอบ แบบมีเงื่อนไข if / elif / else\n",
        "num = [1,2,3,4,5,6,7,8,9,10]\n",
        "cnt = 0\n",
        "\n",
        "for i in num :\n",
        "  if i % 2 == 0:\n",
        "    cnt = cnt+1\n",
        "print(cnt)"
      ],
      "metadata": {
        "id": "_JbZggrNKQTL"
      },
      "execution_count": null,
      "outputs": []
    },
    {
      "cell_type": "markdown",
      "source": [
        "ตรวจสอบชุดข้อมูล การใช้ true กับ false"
      ],
      "metadata": {
        "id": "8ZEkRwYr0xcg"
      }
    },
    {
      "cell_type": "code",
      "source": [
        "score = [15,10,13,14,16,-6,19,0,12,11]\n",
        "#ใช้ตัวแปร flag เป็นตัวตรวจสอบค่าในลิตคะแนน\n",
        "flag = True\n",
        "for s in score:\n",
        "  if s<0 or s>20:\n",
        "    flag = False\n",
        "  print(s,flag)\n",
        "    #break(ปิดใช้)\n",
        "if flag:\n",
        "  print('คะแนนถูกต้อง')\n",
        "else:\n",
        "  print('คะแนนผิด')\n"
      ],
      "metadata": {
        "id": "F0ZttaT90xzn",
        "collapsed": true
      },
      "execution_count": null,
      "outputs": []
    },
    {
      "cell_type": "markdown",
      "source": [],
      "metadata": {
        "id": "SziogWutBFvV"
      }
    },
    {
      "cell_type": "code",
      "source": [
        "\n",
        "def star():\n",
        "     print('#')\n",
        "     return ('*')\n",
        "print(star())"
      ],
      "metadata": {
        "id": "QOvTQbFqBGhz"
      },
      "execution_count": null,
      "outputs": []
    },
    {
      "cell_type": "code",
      "source": [
        "def inc(n):\n",
        "   n = n+1\n",
        "   return n\n",
        "print(inc(10))"
      ],
      "metadata": {
        "id": "8yAnRMah-0VR"
      },
      "execution_count": null,
      "outputs": []
    },
    {
      "cell_type": "markdown",
      "source": [
        "# Jupyter Notebook"
      ],
      "metadata": {
        "id": "bhTz708Ib-Ts"
      }
    },
    {
      "cell_type": "code",
      "source": [],
      "metadata": {
        "id": "9pcV9Cfnbmum"
      },
      "execution_count": null,
      "outputs": []
    }
  ]
}